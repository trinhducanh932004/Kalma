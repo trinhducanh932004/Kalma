{
 "cells": [
  {
   "cell_type": "code",
   "execution_count": 1,
   "id": "ebe7c121",
   "metadata": {},
   "outputs": [],
   "source": [
    "import pandas as pd\n",
    "import numpy as np\n",
    "from statsmodels.tsa.arima.model import ARIMA\n",
    "from sklearn.compose import ColumnTransformer"
   ]
  },
  {
   "cell_type": "code",
   "execution_count": 2,
   "id": "b3272322",
   "metadata": {},
   "outputs": [],
   "source": [
    "# Đọc dữ liệu\n",
    "train = pd.read_csv('df_saturday_train.csv')\n",
    "test = pd.read_csv('df_saturday_test.csv')\n",
    "\n",
    "# for col in train.columns:\n",
    "#     train[col] = train[col].fillna(train[col].mode()[0])\n",
    "\n",
    "# for col in test.columns:\n",
    "#     test[col] = test[col].fillna(test[col].mode()[0])"
   ]
  },
  {
   "cell_type": "code",
   "execution_count": null,
   "id": "6a7378a0",
   "metadata": {},
   "outputs": [],
   "source": [
    "class KalmanFilter:\n",
    "    def __init__(self, A=1, H=1, Q=1e-5, R=10, initial_state=0, initial_uncertainty=1):\n",
    "        self.A = A\n",
    "        self.H = H\n",
    "        self.Q = Q\n",
    "        self.R = R\n",
    "        self.x = initial_state\n",
    "        self.P = initial_uncertainty\n",
    "\n",
    "    def predict(self):\n",
    "        self.x = self.A * self.x\n",
    "        self.P = self.A * self.P * self.A + self.Q\n",
    "        return self.x\n",
    "\n",
    "    def update(self, z):\n",
    "        K = self.P * self.H / (self.H * self.P * self.H + self.R)\n",
    "        self.x = self.x + K * (z - self.H * self.x)\n",
    "        self.P = (1 - K * self.H) * self.P\n",
    "        return self.x\n",
    "    \n",
    "ts_train = train['Listening_Time_minutes']\n",
    "\n",
    "# ======= Fit mô hình ARIMA =======\n",
    "model = ARIMA(ts_train, order=(2,1,2))  # order=(p,d,q) bạn có thể tinh chỉnh\n",
    "model_fit = model.fit()\n",
    "\n",
    "# ======= Dự đoán tiếp N bước trong tương lai =======\n",
    "n_steps = len(test)\n",
    "forecast = model_fit.forecast(steps=n_steps)\n",
    "\n",
    "# ======= Làm mượt dự đoán bằng Kalman Filter =======\n",
    "kf = KalmanFilter(initial_state=forecast.iloc[0])\n",
    "smoothed = []\n",
    "\n",
    "for z in forecast:\n",
    "    kf.predict()\n",
    "    smoothed_val = kf.update(z)\n",
    "    smoothed.append(smoothed_val)\n",
    "\n",
    "# ======= Ghi kết quả ra file submission =======\n",
    "test['Predicted_Listening_Time_minutes'] = smoothed\n",
    "test.to_csv(\"submission_ARIMA1.csv\", index=False)"
   ]
  },
  {
   "cell_type": "code",
   "execution_count": null,
   "id": "c95d2182",
   "metadata": {},
   "outputs": [],
   "source": []
  }
 ],
 "metadata": {
  "kernelspec": {
   "display_name": "Python 3",
   "language": "python",
   "name": "python3"
  },
  "language_info": {
   "codemirror_mode": {
    "name": "ipython",
    "version": 3
   },
   "file_extension": ".py",
   "mimetype": "text/x-python",
   "name": "python",
   "nbconvert_exporter": "python",
   "pygments_lexer": "ipython3",
   "version": "3.11.2"
  }
 },
 "nbformat": 4,
 "nbformat_minor": 5
}
