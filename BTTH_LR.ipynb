{
 "cells": [
  {
   "cell_type": "code",
   "execution_count": 1,
   "id": "80a6d4b7",
   "metadata": {},
   "outputs": [],
   "source": [
    "import pandas as pd\n",
    "from sklearn.linear_model import LinearRegression\n",
    "from sklearn.preprocessing import OneHotEncoder\n",
    "from sklearn.compose import ColumnTransformer\n",
    "from sklearn.pipeline import Pipeline"
   ]
  },
  {
   "cell_type": "code",
   "execution_count": null,
   "id": "44f494df",
   "metadata": {},
   "outputs": [],
   "source": [
    "train = pd.read_csv('df_saturday_train.csv')\n",
    "test = pd.read_csv('df_saturday_test.csv')\n",
    "\n",
    "for col in train.columns:\n",
    "    train[col] = train[col].fillna(train[col].mode()[0])\n",
    "\n",
    "for col in test.columns:\n",
    "    test[col] = test[col].fillna(test[col].mode()[0])"
   ]
  },
  {
   "cell_type": "code",
   "execution_count": 3,
   "id": "1bf3e2c7",
   "metadata": {},
   "outputs": [
    {
     "data": {
      "text/plain": [
       "id                             0\n",
       "Podcast_Name                   0\n",
       "Episode_Title                  0\n",
       "Episode_Length_minutes         0\n",
       "Genre                          0\n",
       "Host_Popularity_percentage     0\n",
       "Publication_Day                0\n",
       "Publication_Time               0\n",
       "Guest_Popularity_percentage    0\n",
       "Number_of_Ads                  0\n",
       "Episode_Sentiment              0\n",
       "Listening_Time_minutes         0\n",
       "dtype: int64"
      ]
     },
     "execution_count": 3,
     "metadata": {},
     "output_type": "execute_result"
    }
   ],
   "source": [
    "train.isnull().sum()"
   ]
  },
  {
   "cell_type": "code",
   "execution_count": 4,
   "id": "236dfec8",
   "metadata": {},
   "outputs": [
    {
     "data": {
      "text/plain": [
       "id                             0\n",
       "Podcast_Name                   0\n",
       "Episode_Title                  0\n",
       "Episode_Length_minutes         0\n",
       "Genre                          0\n",
       "Host_Popularity_percentage     0\n",
       "Publication_Day                0\n",
       "Publication_Time               0\n",
       "Guest_Popularity_percentage    0\n",
       "Number_of_Ads                  0\n",
       "Episode_Sentiment              0\n",
       "dtype: int64"
      ]
     },
     "execution_count": 4,
     "metadata": {},
     "output_type": "execute_result"
    }
   ],
   "source": [
    "test.isnull().sum()"
   ]
  },
  {
   "cell_type": "code",
   "execution_count": null,
   "id": "3aad9093",
   "metadata": {},
   "outputs": [
    {
     "name": "stdout",
     "output_type": "stream",
     "text": [
      "✅ Dự đoán đã được lưu vào submission_LR.csv\n"
     ]
    }
   ],
   "source": [
    "class KalmanFilter:\n",
    "    def __init__(self, A=1, H=1, Q=1e-5, R=10, initial_state=0, initial_uncertainty=1):\n",
    "        self.A = A\n",
    "        self.H = H\n",
    "        self.Q = Q\n",
    "        self.R = R\n",
    "        self.x = initial_state\n",
    "        self.P = initial_uncertainty\n",
    "\n",
    "    def predict(self):\n",
    "        self.x = self.A * self.x\n",
    "        self.P = self.A * self.P * self.A + self.Q\n",
    "        return self.x\n",
    "\n",
    "    def update(self, z):\n",
    "        K = self.P * self.H / (self.H * self.P * self.H + self.R)\n",
    "        self.x = self.x + K * (z - self.H * self.x)\n",
    "        self.P = (1 - K * self.H) * self.P\n",
    "        return self.x\n",
    "    \n",
    "\n",
    "target_col = 'Listening_Time_minutes'\n",
    "feature_cols = [col for col in train.columns if col != target_col]\n",
    "\n",
    "X_train = train[feature_cols]\n",
    "y_train = train[target_col]\n",
    "X_test = test[feature_cols]\n",
    "\n",
    "categorical_cols = X_train.select_dtypes(include=['object', 'category']).columns.tolist()\n",
    "preprocessor = ColumnTransformer([\n",
    "    ('cat', OneHotEncoder(handle_unknown='ignore'), categorical_cols)\n",
    "], remainder='passthrough')\n",
    "\n",
    "pipeline = Pipeline([\n",
    "    ('preprocess', preprocessor),\n",
    "    ('regressor', LinearRegression())\n",
    "])\n",
    "\n",
    "pipeline.fit(X_train, y_train)\n",
    "\n",
    "linear_preds = pipeline.predict(X_test)\n",
    "\n",
    "kf = KalmanFilter(initial_state=linear_preds[0])\n",
    "smoothed_preds = []\n",
    "\n",
    "for z in linear_preds:\n",
    "    kf.predict()\n",
    "    smoothed_val = kf.update(z)\n",
    "    smoothed_preds.append(smoothed_val)\n",
    "\n",
    "test['Predicted_Listening_Time_minutes'] = smoothed_preds\n",
    "test.to_csv('submission_LR.csv', index=False)\n"
   ]
  }
 ],
 "metadata": {
  "kernelspec": {
   "display_name": "Python 3",
   "language": "python",
   "name": "python3"
  },
  "language_info": {
   "codemirror_mode": {
    "name": "ipython",
    "version": 3
   },
   "file_extension": ".py",
   "mimetype": "text/x-python",
   "name": "python",
   "nbconvert_exporter": "python",
   "pygments_lexer": "ipython3",
   "version": "3.11.2"
  }
 },
 "nbformat": 4,
 "nbformat_minor": 5
}
