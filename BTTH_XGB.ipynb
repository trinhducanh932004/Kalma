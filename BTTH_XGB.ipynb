{
 "cells": [
  {
   "cell_type": "code",
   "execution_count": 7,
   "id": "3126e5f1",
   "metadata": {},
   "outputs": [],
   "source": [
    "import xgboost as xgb\n",
    "from sklearn.model_selection import train_test_split\n",
    "import pandas as pd\n",
    "from sklearn.compose import ColumnTransformer\n",
    "from sklearn.preprocessing import OneHotEncoder\n",
    "from sklearn.pipeline import Pipeline"
   ]
  },
  {
   "cell_type": "code",
   "execution_count": 8,
   "id": "e049efcc",
   "metadata": {},
   "outputs": [],
   "source": [
    "train = pd.read_csv('df_saturday_train.csv')\n",
    "test = pd.read_csv('df_saturday_test.csv')"
   ]
  },
  {
   "cell_type": "code",
   "execution_count": 9,
   "id": "6361adad",
   "metadata": {},
   "outputs": [
    {
     "name": "stdout",
     "output_type": "stream",
     "text": [
      "<class 'pandas.core.frame.DataFrame'>\n",
      "RangeIndex: 103505 entries, 0 to 103504\n",
      "Data columns (total 12 columns):\n",
      " #   Column                       Non-Null Count   Dtype  \n",
      "---  ------                       --------------   -----  \n",
      " 0   id                           103505 non-null  int64  \n",
      " 1   Podcast_Name                 103505 non-null  object \n",
      " 2   Episode_Title                103505 non-null  object \n",
      " 3   Episode_Length_minutes       91442 non-null   float64\n",
      " 4   Genre                        103505 non-null  object \n",
      " 5   Host_Popularity_percentage   103505 non-null  float64\n",
      " 6   Publication_Day              103505 non-null  object \n",
      " 7   Publication_Time             103505 non-null  object \n",
      " 8   Guest_Popularity_percentage  82283 non-null   float64\n",
      " 9   Number_of_Ads                103505 non-null  float64\n",
      " 10  Episode_Sentiment            103505 non-null  object \n",
      " 11  Listening_Time_minutes       103505 non-null  float64\n",
      "dtypes: float64(5), int64(1), object(6)\n",
      "memory usage: 9.5+ MB\n"
     ]
    }
   ],
   "source": [
    "train.info()"
   ]
  },
  {
   "cell_type": "code",
   "execution_count": null,
   "id": "e743db58",
   "metadata": {},
   "outputs": [],
   "source": [
    "class KalmanFilter:\n",
    "    def __init__(self, A=1, H=1, Q=1e-5, R=10, initial_state=0, initial_uncertainty=1):\n",
    "        self.A = A\n",
    "        self.H = H\n",
    "        self.Q = Q\n",
    "        self.R = R\n",
    "        self.x = initial_state\n",
    "        self.P = initial_uncertainty\n",
    "\n",
    "    def predict(self):\n",
    "        self.x = self.A * self.x\n",
    "        self.P = self.A * self.P * self.A + self.Q\n",
    "        return self.x\n",
    "\n",
    "    def update(self, z):\n",
    "        K = self.P * self.H / (self.H * self.P * self.H + self.R)\n",
    "        self.x = self.x + K * (z - self.H * self.x)\n",
    "        self.P = (1 - K * self.H) * self.P\n",
    "        return self.x\n",
    "    \n",
    "X = train.drop(columns=['Listening_Time_minutes'])\n",
    "y = train['Listening_Time_minutes']\n",
    "X_test = test.drop(columns=['Listening_Time_minutes'], errors='ignore')\n",
    "\n",
    "\n",
    "categorical_cols = X.select_dtypes(include='object').columns.tolist()\n",
    "\n",
    "preprocessor = ColumnTransformer([\n",
    "    ('cat', OneHotEncoder(handle_unknown='ignore', sparse_output=False), categorical_cols)\n",
    "], remainder='passthrough')\n",
    "\n",
    "pipeline = Pipeline([\n",
    "    ('preprocess', preprocessor),\n",
    "    ('model', xgb.XGBRegressor(n_estimators=100))\n",
    "])\n",
    "\n",
    "\n",
    "X_train, X_val, y_train, y_val = train_test_split(X, y, test_size=0.2, random_state=42)\n",
    "pipeline.fit(X_train, y_train)\n",
    "\n",
    "# Dự đoán cho test\n",
    "y_pred = pipeline.predict(X_test)\n",
    "\n",
    "# ===== Làm mượt với Kalman Filter =====\n",
    "kf = KalmanFilter(initial_state=y_pred[0])\n",
    "smoothed_pred = []\n",
    "for z in y_pred:\n",
    "    kf.predict()\n",
    "    smoothed_pred.append(kf.update(z))\n",
    "\n",
    "# ===== Ghi kết quả =====\n",
    "test['Predicted_Listening_Time_minutes'] = smoothed_pred\n",
    "test.to_csv(\"submission_XGB.csv\", index=False)"
   ]
  }
 ],
 "metadata": {
  "kernelspec": {
   "display_name": "Python 3",
   "language": "python",
   "name": "python3"
  },
  "language_info": {
   "codemirror_mode": {
    "name": "ipython",
    "version": 3
   },
   "file_extension": ".py",
   "mimetype": "text/x-python",
   "name": "python",
   "nbconvert_exporter": "python",
   "pygments_lexer": "ipython3",
   "version": "3.11.2"
  }
 },
 "nbformat": 4,
 "nbformat_minor": 5
}
